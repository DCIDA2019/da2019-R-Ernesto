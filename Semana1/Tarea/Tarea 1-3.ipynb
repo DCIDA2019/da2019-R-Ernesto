{
 "cells": [
  {
   "cell_type": "markdown",
   "metadata": {},
   "source": [
    "##  Diferencias entre tipos de datos, y colecciones."
   ]
  },
  {
   "cell_type": "markdown",
   "metadata": {},
   "source": [
    "Python tiene tipado dinámico, es decir que no es necesario declarar  el tipo de la variable, una vez que le es asignado un valor se determina su tipo. Esta caracteristica hace que su uso sea más parecido al lenguaje natural, sin embargo esta caracteristica lo vuelve poco eficiente en el manejo de datos. Por ello se han desarrollado herramientas para la manipulacion de datos como _NumPy_."
   ]
  },
  {
   "cell_type": "markdown",
   "metadata": {},
   "source": [
    "## Tipos de datos\n",
    "\n",
    "En python hay tres tipos de datos números, cadenas y booleanos. Que estan implementados en lenguaje C mediante estructuras de datos. Por lo que hablar de tipos de datos en python puede ser o muy trivial o muy complejo si lo abordamos técnicamente. Sin embargo en  el módulo _NumPy_ de python se tienen más tipos de datos que serían similares a los de C, y es de estos de los que vamos a hablar.\n",
    "\n",
    "    1. bool_ : 0,1, FALSE, TRUE, se almacena como un byte (o bit?)\n",
    "    \n",
    "    2. int_  : implementado en C como long\n",
    "    \n",
    "    3. int   : identico a int en C\n",
    "    \n",
    "    4. intp  : implementado en C como ssize_t\n",
    "    \n",
    "    5. int8  : Byte, valores de -128 a 127\n",
    "    \n",
    "    6. int16 : int con valores de -32,768 a 32,767\n",
    "    \n",
    "    7. int32 : int con valores de -2,147,483,648 a 2,147,483,647\n",
    "    \n",
    "    8. int64 : int con valores de -9,223,372,036,854,775,808 a 9,223,372,036,854,775,807\n",
    "    \n",
    "    9. uint8 : unsigned int con valores de 0 a 255\n",
    "    \n",
    "    10.uint16: unsigned int con valores de 0 a 65,535\n",
    "    \n",
    "    11.uint32: unsigned int con valores de 0 a 4,294,967,295\n",
    "    \n",
    "    12.uint64: unsigned int con valores de 0 a 18,446,744,073,709,551,615    \n",
    "    \n",
    "    13:float16: float de media precisión, bit de signo, exponente de 5 bits, 10 bits de mantisa\n",
    "    \n",
    "    14:float32: float de precisión, bit de signo, exponente de 8 bits, 23 bits de mantisa\n",
    "    \n",
    "    15.float_ , float64: float de doble precisión, bit de signo, exponente de 11 bits, 52 bits de mantisa\n",
    "    \n",
    "    16. complex64: Complex number, implementado con 2 float32\n",
    "    \n",
    "    17. complex_ , complex128, implementado con dos float64\n",
    "    \n",
    "    "
   ]
  },
  {
   "cell_type": "markdown",
   "metadata": {},
   "source": [
    "## Colecciones\n",
    "\n",
    "De forma 'nativa' en python existen 3 tipos de colecciones: listas, tuplas y diccionarios, además con el uso de módulos como _NumPy_ tenemos acceso a otro tipo de colecciones como lo son los arreglos de NumPy, o arreglos np."
   ]
  },
  {
   "cell_type": "markdown",
   "metadata": {},
   "source": [
    "### Listas vs Arreglos np:\n",
    "Es un tipo de colección ordenada, equivale a lo que en otros lenguajes se conoce por arreglos, o vectores ( _No confundir con los arreglos np, estos son un tipo diferente de arreglo_ ).\n",
    "\n",
    "Las listas pueden tener cualquier tipo de dato y también listas. En una misma lista puede haber elementos de distintos tipos y listas. _En cambio los arreglos np solo pueden ser de un mismo tipo todos sus elementos_ .\n",
    "\n",
    "Otra diferencia entre listas y arreglos (de tipo np) es que el particionado o _slicing_ en las listas genera copias de la lista al asginarle una variable, mientras que esto no ocurre en el arreglo np."
   ]
  },
  {
   "cell_type": "code",
   "execution_count": 6,
   "metadata": {},
   "outputs": [],
   "source": [
    "import numpy as np"
   ]
  },
  {
   "cell_type": "code",
   "execution_count": 9,
   "metadata": {},
   "outputs": [
    {
     "data": {
      "text/plain": [
       "[1, 2, 3, 4, 5]"
      ]
     },
     "execution_count": 9,
     "metadata": {},
     "output_type": "execute_result"
    }
   ],
   "source": [
    "L=[1,2,3,4,5]\n",
    "L"
   ]
  },
  {
   "cell_type": "code",
   "execution_count": 14,
   "metadata": {},
   "outputs": [
    {
     "data": {
      "text/plain": [
       "array([1, 2, 3, 4, 5])"
      ]
     },
     "execution_count": 14,
     "metadata": {},
     "output_type": "execute_result"
    }
   ],
   "source": [
    "A=np.array([1,2,3,4,5])\n",
    "A"
   ]
  },
  {
   "cell_type": "code",
   "execution_count": 20,
   "metadata": {},
   "outputs": [
    {
     "data": {
      "text/plain": [
       "[1, 2, 3]"
      ]
     },
     "execution_count": 20,
     "metadata": {},
     "output_type": "execute_result"
    }
   ],
   "source": [
    "#Ahora vamos a hacer _slicing_ en la lista y a asignarle una variable\n",
    "L_sub=L[0:3:]\n",
    "L_sub\n"
   ]
  },
  {
   "cell_type": "code",
   "execution_count": 23,
   "metadata": {},
   "outputs": [
    {
     "data": {
      "text/plain": [
       "[0, 2, 3]"
      ]
     },
     "execution_count": 23,
     "metadata": {},
     "output_type": "execute_result"
    }
   ],
   "source": [
    "#Modificamos L_sub[0,0]\n",
    "L_sub[0]=0\n",
    "L_sub"
   ]
  },
  {
   "cell_type": "code",
   "execution_count": 24,
   "metadata": {},
   "outputs": [
    {
     "data": {
      "text/plain": [
       "[1, 2, 3, 4, 5]"
      ]
     },
     "execution_count": 24,
     "metadata": {},
     "output_type": "execute_result"
    }
   ],
   "source": [
    "#Verificamos si L resultó afectada\n",
    "L"
   ]
  },
  {
   "cell_type": "code",
   "execution_count": 25,
   "metadata": {},
   "outputs": [
    {
     "data": {
      "text/plain": [
       "array([0, 2, 3, 4, 5])"
      ]
     },
     "execution_count": 25,
     "metadata": {},
     "output_type": "execute_result"
    }
   ],
   "source": [
    "#Si hacemos este mismo procedimiento con el np-array veremos que éste se modifica\n",
    "A_sub=A[0:3:]\n",
    "A_sub[0]=0\n",
    "A"
   ]
  },
  {
   "cell_type": "markdown",
   "metadata": {},
   "source": [
    "Y como habremos podido notar otra diferencia entre lista y arreglo np es la forma en como se declaran."
   ]
  },
  {
   "cell_type": "markdown",
   "metadata": {},
   "source": [
    "### Listas vs Tuplas\n",
    "\n",
    "Las tuplas a diferencia de las listas se declaran usando paréntesis (no corchetes), aunque de hecho no es necesario se usa por claridad así:"
   ]
  },
  {
   "cell_type": "code",
   "execution_count": 27,
   "metadata": {},
   "outputs": [
    {
     "data": {
      "text/plain": [
       "(1, 2, 3, 4)"
      ]
     },
     "execution_count": 27,
     "metadata": {},
     "output_type": "execute_result"
    }
   ],
   "source": [
    "tupla1=1,2,3,4\n",
    "tupla1"
   ]
  },
  {
   "cell_type": "code",
   "execution_count": 28,
   "metadata": {},
   "outputs": [
    {
     "data": {
      "text/plain": [
       "(1, 2, 3, 4)"
      ]
     },
     "execution_count": 28,
     "metadata": {},
     "output_type": "execute_result"
    }
   ],
   "source": [
    "tupla2=(1,2,3,4)\n",
    "tupla2"
   ]
  },
  {
   "cell_type": "markdown",
   "metadata": {},
   "source": [
    "Sin embargo aunque se declaran distinto los elementos se accesan de la misma forma, ahora si, usando corchetes. Las listas y las tuplas forman parte de un tipo de objetos llamados secuencias, las cademas de texto también son secuencias."
   ]
  },
  {
   "cell_type": "code",
   "execution_count": 30,
   "metadata": {},
   "outputs": [
    {
     "data": {
      "text/plain": [
       "'h'"
      ]
     },
     "execution_count": 30,
     "metadata": {},
     "output_type": "execute_result"
    }
   ],
   "source": [
    "c = \"hola mundo\"\n",
    "c[0]"
   ]
  },
  {
   "cell_type": "code",
   "execution_count": 31,
   "metadata": {},
   "outputs": [
    {
     "data": {
      "text/plain": [
       "'mundo'"
      ]
     },
     "execution_count": 31,
     "metadata": {},
     "output_type": "execute_result"
    }
   ],
   "source": [
    "c[5::]"
   ]
  },
  {
   "cell_type": "markdown",
   "metadata": {},
   "source": [
    "Las tuplas no se pueden modificar una vez creadas, las listas si.  Ni sus valores, ni su tamaño."
   ]
  },
  {
   "cell_type": "code",
   "execution_count": 32,
   "metadata": {},
   "outputs": [
    {
     "ename": "TypeError",
     "evalue": "'tuple' object does not support item assignment",
     "output_type": "error",
     "traceback": [
      "\u001b[0;31m---------------------------------------------------------------------------\u001b[0m",
      "\u001b[0;31mTypeError\u001b[0m                                 Traceback (most recent call last)",
      "\u001b[0;32m<ipython-input-32-d861a1eca4c1>\u001b[0m in \u001b[0;36m<module>\u001b[0;34m\u001b[0m\n\u001b[0;32m----> 1\u001b[0;31m \u001b[0mtupla2\u001b[0m\u001b[0;34m[\u001b[0m\u001b[0;36m0\u001b[0m\u001b[0;34m]\u001b[0m\u001b[0;34m=\u001b[0m\u001b[0;36m1\u001b[0m\u001b[0;34m\u001b[0m\u001b[0;34m\u001b[0m\u001b[0m\n\u001b[0m",
      "\u001b[0;31mTypeError\u001b[0m: 'tuple' object does not support item assignment"
     ]
    }
   ],
   "source": [
    "tupla2[0]=1"
   ]
  },
  {
   "cell_type": "markdown",
   "metadata": {},
   "source": [
    "También ocupan menos memoria que las listas."
   ]
  },
  {
   "cell_type": "markdown",
   "metadata": {},
   "source": [
    "### Listas vs Diccionarios\n",
    "\n",
    "Los diccionarios, también conocidos como matrices asociativas, son colecciones que relacionan una clave y un valor. A diferencia de las listas se declara usando llaves {}."
   ]
  },
  {
   "cell_type": "code",
   "execution_count": 37,
   "metadata": {},
   "outputs": [
    {
     "data": {
      "text/plain": [
       "{'Luis': 'Gomez', 'Natalia': 'Ochoa', 'Petra': 'Sanchez'}"
      ]
     },
     "execution_count": 37,
     "metadata": {},
     "output_type": "execute_result"
    }
   ],
   "source": [
    "diccionario = {\"Luis\":\"Gomez\",\"Natalia\":\"Ochoa\",\"Petra\":\"Sanchez\"}\n",
    "diccionario"
   ]
  },
  {
   "cell_type": "markdown",
   "metadata": {},
   "source": [
    "El primer valor se llama clave y los que siguen son valores asociados. Las claves son inmutables, podríamos usar tuplas u otro tipo de dato pero no listas o diccionarios.\n",
    "\n",
    "La diferencia principal entre los diccionarios y las listas o as tuplas es que a los valores almacenados en un diccionario se les accede no por su índice, porque de hecho no tienen orden, sino por su clave, utilizando de nuevo el operador []."
   ]
  },
  {
   "cell_type": "code",
   "execution_count": 38,
   "metadata": {},
   "outputs": [
    {
     "data": {
      "text/plain": [
       "'Ochoa'"
      ]
     },
     "execution_count": 38,
     "metadata": {},
     "output_type": "execute_result"
    }
   ],
   "source": [
    "diccionario[\"Natalia\"]"
   ]
  },
  {
   "cell_type": "markdown",
   "metadata": {},
   "source": [
    "En los diccionarios no se puede realizar _slicing_ , los diccionarios no son secuencias sino mepeos o asociaciones."
   ]
  }
 ],
 "metadata": {
  "kernelspec": {
   "display_name": "Python 3",
   "language": "python",
   "name": "python3"
  },
  "language_info": {
   "codemirror_mode": {
    "name": "ipython",
    "version": 3
   },
   "file_extension": ".py",
   "mimetype": "text/x-python",
   "name": "python",
   "nbconvert_exporter": "python",
   "pygments_lexer": "ipython3",
   "version": "3.7.4"
  }
 },
 "nbformat": 4,
 "nbformat_minor": 2
}
